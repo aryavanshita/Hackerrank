{
 "cells": [
  {
   "cell_type": "code",
   "execution_count": 1,
   "id": "1b0714d6-b1c9-4061-aaf7-043bb38a5a24",
   "metadata": {},
   "outputs": [
    {
     "name": "stdout",
     "output_type": "stream",
     "text": [
      "0.145\n"
     ]
    }
   ],
   "source": [
    "# Enter your code here. Read input from STDIN. Print output to STDOUT\n",
    "def mean(x):\n",
    "  '''calculating mean of the list'''\n",
    "  n = len(x)\n",
    "  sum_x = sum(x)\n",
    "  return sum_x/n\n",
    "\n",
    "# defining x square\n",
    "def squared_num(x):\n",
    "  '''squaring each item in the list and redefine a new list''' \n",
    "  lst = []\n",
    "  for i in x:\n",
    "    lst.append(i**2)\n",
    "  return lst \n",
    "  \n",
    "def mul_of_xy(x,y):\n",
    "  '''multiplying corresponding items of each list'''\n",
    "  gst = []\n",
    "  for i in range(len(x)):\n",
    "    gst.append(x[i] * y[i])\n",
    "  return gst  \n",
    "\n",
    "def karl_pearson_corr(x,y):\n",
    "  n= len(x)\n",
    "  mean_x = mean(x)\n",
    "  mean_y = mean(y)\n",
    "  var_x = (((1/n)*sum(squared_num(x)))-(mean_x**2))\n",
    "  var_y = (((1/n)*sum(squared_num(y)))-(mean_y**2))\n",
    "  cov_xy = ((1/n)*sum(mul_of_xy(x,y)))-(mean_x * mean_y)\n",
    "  num = cov_xy\n",
    "  den = (var_x * var_y)**(1/2)\n",
    "  r_xy = round((num/den),3)\n",
    "  return r_xy\n",
    "  \n",
    "x = [15,12,8,8,7,7,7,6,5,3]\n",
    "y = [10,25,17,11,13,17,20,13,9,15]\n",
    "\n",
    "print(karl_pearson_corr(x,y))"
   ]
  },
  {
   "cell_type": "code",
   "execution_count": null,
   "id": "d36cbc4e-59af-46f5-afca-954617c093d4",
   "metadata": {},
   "outputs": [],
   "source": []
  }
 ],
 "metadata": {
  "kernelspec": {
   "display_name": "Python 3 (ipykernel)",
   "language": "python",
   "name": "python3"
  },
  "language_info": {
   "codemirror_mode": {
    "name": "ipython",
    "version": 3
   },
   "file_extension": ".py",
   "mimetype": "text/x-python",
   "name": "python",
   "nbconvert_exporter": "python",
   "pygments_lexer": "ipython3",
   "version": "3.11.4"
  }
 },
 "nbformat": 4,
 "nbformat_minor": 5
}
